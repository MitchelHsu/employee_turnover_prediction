{
 "cells": [
  {
   "cell_type": "code",
   "execution_count": 4,
   "metadata": {},
   "outputs": [],
   "source": [
    "import pandas as pd\n",
    "import numpy as np\n",
    "from sklearn.preprocessing import StandardScaler\n",
    "from sklearn.model_selection import GridSearchCV, StratifiedKFold, cross_val_score, train_test_split\n",
    "from sklearn.feature_selection import RFECV\n",
    "from sklearn.ensemble import RandomForestClassifier, ExtraTreesClassifier, AdaBoostClassifier, GradientBoostingClassifier\n",
    "from sklearn.neighbors import KNeighborsClassifier\n",
    "from sklearn.naive_bayes import GaussianNB\n",
    "from sklearn.linear_model import LogisticRegression\n",
    "from sklearn import metrics, tree, svm\n",
    "from sklearn.neural_network import MLPClassifier\n",
    "from sklearn.metrics import make_scorer, fbeta_score\n",
    "import matplotlib.pyplot as plt\n",
    "import xgboost as xgb\n",
    "from xgboost import XGBClassifier \n",
    "from joblib import dump"
   ]
  },
  {
   "cell_type": "code",
   "execution_count": 5,
   "metadata": {},
   "outputs": [],
   "source": [
    "def normalize_data(data):\n",
    "    scaler = StandardScaler()\n",
    "    scaler.fit(data)\n",
    "    return scaler.transform(data)"
   ]
  },
  {
   "cell_type": "code",
   "execution_count": 6,
   "metadata": {},
   "outputs": [
    {
     "data": {
      "text/html": [
       "<div>\n",
       "<style scoped>\n",
       "    .dataframe tbody tr th:only-of-type {\n",
       "        vertical-align: middle;\n",
       "    }\n",
       "\n",
       "    .dataframe tbody tr th {\n",
       "        vertical-align: top;\n",
       "    }\n",
       "\n",
       "    .dataframe thead th {\n",
       "        text-align: right;\n",
       "    }\n",
       "</style>\n",
       "<table border=\"1\" class=\"dataframe\">\n",
       "  <thead>\n",
       "    <tr style=\"text-align: right;\">\n",
       "      <th></th>\n",
       "      <th>yyyy</th>\n",
       "      <th>sex</th>\n",
       "      <th>Job classification</th>\n",
       "      <th>Job level</th>\n",
       "      <th>Factory code</th>\n",
       "      <th>Layers of management</th>\n",
       "      <th>Work experience1</th>\n",
       "      <th>Work experience2</th>\n",
       "      <th>Work experience3</th>\n",
       "      <th>Work experience4</th>\n",
       "      <th>...</th>\n",
       "      <th>Marital Status</th>\n",
       "      <th>Job tenure level A</th>\n",
       "      <th>Job tenure level B</th>\n",
       "      <th>Job tenure level C</th>\n",
       "      <th>Average number of years of work before employment</th>\n",
       "      <th>Graduated School category</th>\n",
       "      <th>Graduated Department category</th>\n",
       "      <th>Family numbers</th>\n",
       "      <th>Commuting cost</th>\n",
       "      <th>Affiliated department</th>\n",
       "    </tr>\n",
       "  </thead>\n",
       "  <tbody>\n",
       "    <tr>\n",
       "      <th>0</th>\n",
       "      <td>2014</td>\n",
       "      <td>1.0</td>\n",
       "      <td>1.0</td>\n",
       "      <td>3.0</td>\n",
       "      <td>19.0</td>\n",
       "      <td>4.0</td>\n",
       "      <td>0.0</td>\n",
       "      <td>1.0</td>\n",
       "      <td>1.0</td>\n",
       "      <td>0.0</td>\n",
       "      <td>...</td>\n",
       "      <td>1.0</td>\n",
       "      <td>2.0</td>\n",
       "      <td>1.0</td>\n",
       "      <td>1.0</td>\n",
       "      <td>2.0</td>\n",
       "      <td>0.0</td>\n",
       "      <td>5.0</td>\n",
       "      <td>0.0</td>\n",
       "      <td>8.0</td>\n",
       "      <td>19138.0</td>\n",
       "    </tr>\n",
       "    <tr>\n",
       "      <th>1</th>\n",
       "      <td>2015</td>\n",
       "      <td>1.0</td>\n",
       "      <td>1.0</td>\n",
       "      <td>3.0</td>\n",
       "      <td>19.0</td>\n",
       "      <td>6.0</td>\n",
       "      <td>0.0</td>\n",
       "      <td>1.0</td>\n",
       "      <td>1.0</td>\n",
       "      <td>0.0</td>\n",
       "      <td>...</td>\n",
       "      <td>1.0</td>\n",
       "      <td>2.0</td>\n",
       "      <td>2.0</td>\n",
       "      <td>1.0</td>\n",
       "      <td>2.0</td>\n",
       "      <td>0.0</td>\n",
       "      <td>5.0</td>\n",
       "      <td>2.0</td>\n",
       "      <td>8.0</td>\n",
       "      <td>19138.0</td>\n",
       "    </tr>\n",
       "    <tr>\n",
       "      <th>2</th>\n",
       "      <td>2016</td>\n",
       "      <td>1.0</td>\n",
       "      <td>1.0</td>\n",
       "      <td>3.0</td>\n",
       "      <td>19.0</td>\n",
       "      <td>6.0</td>\n",
       "      <td>0.0</td>\n",
       "      <td>1.0</td>\n",
       "      <td>1.0</td>\n",
       "      <td>0.0</td>\n",
       "      <td>...</td>\n",
       "      <td>1.0</td>\n",
       "      <td>2.0</td>\n",
       "      <td>2.0</td>\n",
       "      <td>1.0</td>\n",
       "      <td>2.0</td>\n",
       "      <td>0.0</td>\n",
       "      <td>5.0</td>\n",
       "      <td>2.0</td>\n",
       "      <td>8.0</td>\n",
       "      <td>19138.0</td>\n",
       "    </tr>\n",
       "    <tr>\n",
       "      <th>3</th>\n",
       "      <td>2017</td>\n",
       "      <td>1.0</td>\n",
       "      <td>1.0</td>\n",
       "      <td>3.0</td>\n",
       "      <td>19.0</td>\n",
       "      <td>6.0</td>\n",
       "      <td>0.0</td>\n",
       "      <td>1.0</td>\n",
       "      <td>1.0</td>\n",
       "      <td>0.0</td>\n",
       "      <td>...</td>\n",
       "      <td>1.0</td>\n",
       "      <td>2.0</td>\n",
       "      <td>2.0</td>\n",
       "      <td>1.0</td>\n",
       "      <td>2.0</td>\n",
       "      <td>0.0</td>\n",
       "      <td>5.0</td>\n",
       "      <td>2.0</td>\n",
       "      <td>8.0</td>\n",
       "      <td>19138.0</td>\n",
       "    </tr>\n",
       "    <tr>\n",
       "      <th>4</th>\n",
       "      <td>2014</td>\n",
       "      <td>0.0</td>\n",
       "      <td>1.0</td>\n",
       "      <td>4.0</td>\n",
       "      <td>8.0</td>\n",
       "      <td>1.0</td>\n",
       "      <td>0.0</td>\n",
       "      <td>0.0</td>\n",
       "      <td>0.0</td>\n",
       "      <td>0.0</td>\n",
       "      <td>...</td>\n",
       "      <td>1.0</td>\n",
       "      <td>5.0</td>\n",
       "      <td>5.0</td>\n",
       "      <td>0.0</td>\n",
       "      <td>0.0</td>\n",
       "      <td>4.0</td>\n",
       "      <td>1.0</td>\n",
       "      <td>2.0</td>\n",
       "      <td>8.0</td>\n",
       "      <td>8181.0</td>\n",
       "    </tr>\n",
       "    <tr>\n",
       "      <th>...</th>\n",
       "      <td>...</td>\n",
       "      <td>...</td>\n",
       "      <td>...</td>\n",
       "      <td>...</td>\n",
       "      <td>...</td>\n",
       "      <td>...</td>\n",
       "      <td>...</td>\n",
       "      <td>...</td>\n",
       "      <td>...</td>\n",
       "      <td>...</td>\n",
       "      <td>...</td>\n",
       "      <td>...</td>\n",
       "      <td>...</td>\n",
       "      <td>...</td>\n",
       "      <td>...</td>\n",
       "      <td>...</td>\n",
       "      <td>...</td>\n",
       "      <td>...</td>\n",
       "      <td>...</td>\n",
       "      <td>...</td>\n",
       "      <td>...</td>\n",
       "    </tr>\n",
       "    <tr>\n",
       "      <th>14387</th>\n",
       "      <td>2014</td>\n",
       "      <td>1.0</td>\n",
       "      <td>1.0</td>\n",
       "      <td>7.0</td>\n",
       "      <td>8.0</td>\n",
       "      <td>1.0</td>\n",
       "      <td>0.0</td>\n",
       "      <td>0.0</td>\n",
       "      <td>0.0</td>\n",
       "      <td>0.0</td>\n",
       "      <td>...</td>\n",
       "      <td>1.0</td>\n",
       "      <td>6.0</td>\n",
       "      <td>5.0</td>\n",
       "      <td>2.0</td>\n",
       "      <td>1.0</td>\n",
       "      <td>3.0</td>\n",
       "      <td>8.0</td>\n",
       "      <td>2.0</td>\n",
       "      <td>8.0</td>\n",
       "      <td>8012.0</td>\n",
       "    </tr>\n",
       "    <tr>\n",
       "      <th>14388</th>\n",
       "      <td>2015</td>\n",
       "      <td>1.0</td>\n",
       "      <td>1.0</td>\n",
       "      <td>7.0</td>\n",
       "      <td>8.0</td>\n",
       "      <td>1.0</td>\n",
       "      <td>0.0</td>\n",
       "      <td>0.0</td>\n",
       "      <td>0.0</td>\n",
       "      <td>0.0</td>\n",
       "      <td>...</td>\n",
       "      <td>1.0</td>\n",
       "      <td>6.0</td>\n",
       "      <td>5.0</td>\n",
       "      <td>2.0</td>\n",
       "      <td>1.0</td>\n",
       "      <td>3.0</td>\n",
       "      <td>8.0</td>\n",
       "      <td>2.0</td>\n",
       "      <td>8.0</td>\n",
       "      <td>8012.0</td>\n",
       "    </tr>\n",
       "    <tr>\n",
       "      <th>14389</th>\n",
       "      <td>2016</td>\n",
       "      <td>1.0</td>\n",
       "      <td>1.0</td>\n",
       "      <td>7.0</td>\n",
       "      <td>8.0</td>\n",
       "      <td>1.0</td>\n",
       "      <td>0.0</td>\n",
       "      <td>0.0</td>\n",
       "      <td>0.0</td>\n",
       "      <td>0.0</td>\n",
       "      <td>...</td>\n",
       "      <td>1.0</td>\n",
       "      <td>7.0</td>\n",
       "      <td>6.0</td>\n",
       "      <td>2.0</td>\n",
       "      <td>1.0</td>\n",
       "      <td>3.0</td>\n",
       "      <td>8.0</td>\n",
       "      <td>2.0</td>\n",
       "      <td>8.0</td>\n",
       "      <td>8012.0</td>\n",
       "    </tr>\n",
       "    <tr>\n",
       "      <th>14390</th>\n",
       "      <td>2017</td>\n",
       "      <td>1.0</td>\n",
       "      <td>1.0</td>\n",
       "      <td>7.0</td>\n",
       "      <td>8.0</td>\n",
       "      <td>1.0</td>\n",
       "      <td>0.0</td>\n",
       "      <td>0.0</td>\n",
       "      <td>0.0</td>\n",
       "      <td>0.0</td>\n",
       "      <td>...</td>\n",
       "      <td>1.0</td>\n",
       "      <td>7.0</td>\n",
       "      <td>6.0</td>\n",
       "      <td>2.0</td>\n",
       "      <td>1.0</td>\n",
       "      <td>3.0</td>\n",
       "      <td>8.0</td>\n",
       "      <td>2.0</td>\n",
       "      <td>8.0</td>\n",
       "      <td>8012.0</td>\n",
       "    </tr>\n",
       "    <tr>\n",
       "      <th>14391</th>\n",
       "      <td>2017</td>\n",
       "      <td>1.0</td>\n",
       "      <td>2.0</td>\n",
       "      <td>2.0</td>\n",
       "      <td>8.0</td>\n",
       "      <td>6.0</td>\n",
       "      <td>0.0</td>\n",
       "      <td>0.0</td>\n",
       "      <td>0.0</td>\n",
       "      <td>0.0</td>\n",
       "      <td>...</td>\n",
       "      <td>1.0</td>\n",
       "      <td>6.0</td>\n",
       "      <td>1.0</td>\n",
       "      <td>9.0</td>\n",
       "      <td>1.0</td>\n",
       "      <td>3.0</td>\n",
       "      <td>8.0</td>\n",
       "      <td>0.0</td>\n",
       "      <td>9.0</td>\n",
       "      <td>8206.0</td>\n",
       "    </tr>\n",
       "  </tbody>\n",
       "</table>\n",
       "<p>14392 rows × 44 columns</p>\n",
       "</div>"
      ],
      "text/plain": [
       "       yyyy  sex  Job classification  Job level  Factory code  \\\n",
       "0      2014  1.0                 1.0        3.0          19.0   \n",
       "1      2015  1.0                 1.0        3.0          19.0   \n",
       "2      2016  1.0                 1.0        3.0          19.0   \n",
       "3      2017  1.0                 1.0        3.0          19.0   \n",
       "4      2014  0.0                 1.0        4.0           8.0   \n",
       "...     ...  ...                 ...        ...           ...   \n",
       "14387  2014  1.0                 1.0        7.0           8.0   \n",
       "14388  2015  1.0                 1.0        7.0           8.0   \n",
       "14389  2016  1.0                 1.0        7.0           8.0   \n",
       "14390  2017  1.0                 1.0        7.0           8.0   \n",
       "14391  2017  1.0                 2.0        2.0           8.0   \n",
       "\n",
       "       Layers of management  Work experience1  Work experience2  \\\n",
       "0                       4.0               0.0               1.0   \n",
       "1                       6.0               0.0               1.0   \n",
       "2                       6.0               0.0               1.0   \n",
       "3                       6.0               0.0               1.0   \n",
       "4                       1.0               0.0               0.0   \n",
       "...                     ...               ...               ...   \n",
       "14387                   1.0               0.0               0.0   \n",
       "14388                   1.0               0.0               0.0   \n",
       "14389                   1.0               0.0               0.0   \n",
       "14390                   1.0               0.0               0.0   \n",
       "14391                   6.0               0.0               0.0   \n",
       "\n",
       "       Work experience3  Work experience4  ...  Marital Status  \\\n",
       "0                   1.0               0.0  ...             1.0   \n",
       "1                   1.0               0.0  ...             1.0   \n",
       "2                   1.0               0.0  ...             1.0   \n",
       "3                   1.0               0.0  ...             1.0   \n",
       "4                   0.0               0.0  ...             1.0   \n",
       "...                 ...               ...  ...             ...   \n",
       "14387               0.0               0.0  ...             1.0   \n",
       "14388               0.0               0.0  ...             1.0   \n",
       "14389               0.0               0.0  ...             1.0   \n",
       "14390               0.0               0.0  ...             1.0   \n",
       "14391               0.0               0.0  ...             1.0   \n",
       "\n",
       "       Job tenure level A  Job tenure level B  Job tenure level C  \\\n",
       "0                     2.0                 1.0                 1.0   \n",
       "1                     2.0                 2.0                 1.0   \n",
       "2                     2.0                 2.0                 1.0   \n",
       "3                     2.0                 2.0                 1.0   \n",
       "4                     5.0                 5.0                 0.0   \n",
       "...                   ...                 ...                 ...   \n",
       "14387                 6.0                 5.0                 2.0   \n",
       "14388                 6.0                 5.0                 2.0   \n",
       "14389                 7.0                 6.0                 2.0   \n",
       "14390                 7.0                 6.0                 2.0   \n",
       "14391                 6.0                 1.0                 9.0   \n",
       "\n",
       "       Average number of years of work before employment  \\\n",
       "0                                                    2.0   \n",
       "1                                                    2.0   \n",
       "2                                                    2.0   \n",
       "3                                                    2.0   \n",
       "4                                                    0.0   \n",
       "...                                                  ...   \n",
       "14387                                                1.0   \n",
       "14388                                                1.0   \n",
       "14389                                                1.0   \n",
       "14390                                                1.0   \n",
       "14391                                                1.0   \n",
       "\n",
       "       Graduated School category  Graduated Department category  \\\n",
       "0                            0.0                            5.0   \n",
       "1                            0.0                            5.0   \n",
       "2                            0.0                            5.0   \n",
       "3                            0.0                            5.0   \n",
       "4                            4.0                            1.0   \n",
       "...                          ...                            ...   \n",
       "14387                        3.0                            8.0   \n",
       "14388                        3.0                            8.0   \n",
       "14389                        3.0                            8.0   \n",
       "14390                        3.0                            8.0   \n",
       "14391                        3.0                            8.0   \n",
       "\n",
       "       Family numbers  Commuting cost  Affiliated department  \n",
       "0                 0.0             8.0                19138.0  \n",
       "1                 2.0             8.0                19138.0  \n",
       "2                 2.0             8.0                19138.0  \n",
       "3                 2.0             8.0                19138.0  \n",
       "4                 2.0             8.0                 8181.0  \n",
       "...               ...             ...                    ...  \n",
       "14387             2.0             8.0                 8012.0  \n",
       "14388             2.0             8.0                 8012.0  \n",
       "14389             2.0             8.0                 8012.0  \n",
       "14390             2.0             8.0                 8012.0  \n",
       "14391             0.0             9.0                 8206.0  \n",
       "\n",
       "[14392 rows x 44 columns]"
      ]
     },
     "execution_count": 6,
     "metadata": {},
     "output_type": "execute_result"
    }
   ],
   "source": [
    "df = pd.read_csv('p_train.csv')\n",
    "\n",
    "df"
   ]
  },
  {
   "cell_type": "code",
   "execution_count": 4,
   "metadata": {
    "collapsed": true
   },
   "outputs": [
    {
     "name": "stdout",
     "output_type": "stream",
     "text": [
      "<class 'pandas.core.frame.DataFrame'>\n",
      "RangeIndex: 14392 entries, 0 to 14391\n",
      "Data columns (total 47 columns):\n",
      " #   Column     Non-Null Count  Dtype  \n",
      "---  ------     --------------  -----  \n",
      " 0   yyyy       14392 non-null  int64  \n",
      " 1   PerNo      14392 non-null  int64  \n",
      " 2   PerStatus  14392 non-null  int64  \n",
      " 3   sex        14392 non-null  float64\n",
      " 4   工作分類       14392 non-null  float64\n",
      " 5   職等         14392 non-null  float64\n",
      " 6   廠區代碼       14392 non-null  float64\n",
      " 7   管理層級       14392 non-null  float64\n",
      " 8   工作資歷1      14392 non-null  float64\n",
      " 9   工作資歷2      14392 non-null  float64\n",
      " 10  工作資歷3      14392 non-null  float64\n",
      " 11  工作資歷4      14392 non-null  float64\n",
      " 12  工作資歷5      14392 non-null  float64\n",
      " 13  專案時數       14392 non-null  float64\n",
      " 14  專案總數       14392 non-null  float64\n",
      " 15  當前專案角色     14392 non-null  float64\n",
      " 16  特殊專案佔比     14392 non-null  float64\n",
      " 17  工作地點       14392 non-null  float64\n",
      " 18  訓練時數A      14392 non-null  float64\n",
      " 19  訓練時數B      14392 non-null  float64\n",
      " 20  訓練時數C      14392 non-null  float64\n",
      " 21  生產總額       14392 non-null  float64\n",
      " 22  榮譽數        14392 non-null  float64\n",
      " 23  是否升遷       14392 non-null  float64\n",
      " 24  升遷速度       14392 non-null  float64\n",
      " 25  近三月請假數A    14392 non-null  float64\n",
      " 26  近一年請假數A    14392 non-null  float64\n",
      " 27  近三月請假數B    14392 non-null  float64\n",
      " 28  近一年請假數B    14392 non-null  float64\n",
      " 29  出差數A       14392 non-null  float64\n",
      " 30  出差數B       14392 non-null  float64\n",
      " 31  出差集中度      14392 non-null  float64\n",
      " 32  年度績效等級A    14392 non-null  float64\n",
      " 33  年度績效等級B    14392 non-null  float64\n",
      " 34  年度績效等級C    14392 non-null  float64\n",
      " 35  年齡層級       14392 non-null  float64\n",
      " 36  婚姻狀況       14392 non-null  float64\n",
      " 37  年資層級A      14392 non-null  float64\n",
      " 38  年資層級B      14392 non-null  float64\n",
      " 39  年資層級C      14392 non-null  float64\n",
      " 40  任職前工作平均年數  14392 non-null  float64\n",
      " 41  最高學歷       14388 non-null  float64\n",
      " 42  畢業學校類別     14388 non-null  float64\n",
      " 43  畢業科系類別     14392 non-null  float64\n",
      " 44  眷屬量        14392 non-null  float64\n",
      " 45  通勤成本       14392 non-null  float64\n",
      " 46  歸屬部門       14392 non-null  float64\n",
      "dtypes: float64(44), int64(3)\n",
      "memory usage: 5.2 MB\n"
     ]
    }
   ],
   "source": [
    "df.fillna(method='ffill', inplace=True)\n",
    "df.info()\n",
    "df.fillna(0, inplace=True)"
   ]
  },
  {
   "cell_type": "code",
   "execution_count": 5,
   "metadata": {},
   "outputs": [],
   "source": [
    "X = normalize_data(df.drop('PerNo', axis=1).drop('PerStatus', axis=1))\n",
    "Y = df.PerStatus.values"
   ]
  },
  {
   "cell_type": "code",
   "execution_count": 46,
   "metadata": {},
   "outputs": [],
   "source": [
    "x_train, x_test, y_train, y_test = train_test_split(X, Y, test_size=0.2)"
   ]
  },
  {
   "cell_type": "markdown",
   "metadata": {},
   "source": [
    "# Random Forest"
   ]
  },
  {
   "cell_type": "code",
   "execution_count": 85,
   "metadata": {},
   "outputs": [
    {
     "name": "stdout",
     "output_type": "stream",
     "text": [
      "Best Estimator: RandomForestClassifier(n_estimators=50)\n",
      "Best Random Forest Score: 0.9449694039070342\n",
      "Test Accuracy: 0.9482459187217784\n",
      "Test Sensitivity: 0.013422818791946308\n"
     ]
    }
   ],
   "source": [
    "rfc = RandomForestClassifier()\n",
    "param_grid = { \n",
    "    'n_estimators': [10, 20,50],\n",
    "    'max_features': ['auto', 'sqrt', 'log2']\n",
    "}\n",
    "\n",
    "grid = GridSearchCV(estimator=rfc, param_grid=param_grid, cv= 10)\n",
    "model = grid.fit(X, Y)\n",
    "\n",
    "print('Best Estimator:',model.best_estimator_)\n",
    "print('Best Random Forest Score:',model.best_score_)\n",
    "model=model.best_estimator_.fit(x_train, y_train)\n",
    "\n",
    "y_preds = model.predict(x_test)\n",
    "test_accuracy_rf = metrics.accuracy_score(y_test, y_preds)\n",
    "test_recall_rf = metrics.recall_score(y_test, y_preds)\n",
    "\n",
    "print('Test Accuracy:', test_accuracy_rf)\n",
    "print('Test Sensitivity:', test_recall_rf)"
   ]
  },
  {
   "cell_type": "code",
   "execution_count": 22,
   "metadata": {},
   "outputs": [
    {
     "name": "stdout",
     "output_type": "stream",
     "text": [
      "Optimal number of features : 2\n"
     ]
    },
    {
     "data": {
      "image/png": "[encoded data removed]",
      "text/plain": [
       "<Figure size 432x288 with 1 Axes>"
      ]
     },
     "metadata": {
      "needs_background": "light"
     },
     "output_type": "display_data"
    }
   ],
   "source": [
    "rf_rfecv = RFECV(estimator=RandomForestClassifier(n_estimators=50), step=1, cv=StratifiedKFold(5), \n",
    "                 scoring=make_scorer(fbeta_score, beta=1.5))\n",
    "rf_rfecv.fit(X, Y)\n",
    "\n",
    "print(\"Optimal number of features : %d\" % rf_rfecv.n_features_)\n",
    "\n",
    "# Plot number of features VS. cross-validation scores\n",
    "plt.figure()\n",
    "plt.xlabel(\"Number of features selected\")\n",
    "plt.ylabel(\"Cross validation score (nb of correct classifications)\")\n",
    "plt.plot(range(1, len(rf_rfecv.grid_scores_) + 1), rf_rfecv.grid_scores_)\n",
    "plt.show()"
   ]
  },
  {
   "cell_type": "markdown",
   "metadata": {},
   "source": [
    "# Decision Tree"
   ]
  },
  {
   "cell_type": "code",
   "execution_count": 95,
   "metadata": {
    "scrolled": true
   },
   "outputs": [
    {
     "name": "stdout",
     "output_type": "stream",
     "text": [
      "Best Estimator: DecisionTreeClassifier(max_depth=1, min_samples_split=10)\n",
      "Best Score: 0.9446915081557978\n",
      "Test Accuracy: 0.944077804793331\n",
      "Test Sensitivity: 0.0\n"
     ]
    }
   ],
   "source": [
    "parameters={\n",
    "    'min_samples_split' : range(10,500,50),\n",
    "    'max_depth': range(1,16,2)\n",
    "}\n",
    "\n",
    "clf_tree=tree.DecisionTreeClassifier()\n",
    "\n",
    "clf=GridSearchCV(clf_tree,parameters)\n",
    "\n",
    "model = clf.fit(X,Y)\n",
    "\n",
    "# examine the best model\n",
    "print('Best Estimator:', model.best_estimator_)\n",
    "print('Best Score:', model.best_score_)\n",
    "\n",
    "model=model.best_estimator_.fit(x_train, y_train)\n",
    "\n",
    "# predictions for test set\n",
    "y_preds = model.predict(x_test)\n",
    "\n",
    "# calculate test score\n",
    "test_accuracy_dt = metrics.accuracy_score(y_test, y_preds)\n",
    "test_recall_dt = metrics.recall_score(y_test, y_preds)\n",
    "\n",
    "print('Test Accuracy:', test_accuracy_dt)\n",
    "print('Test Sensitivity:', test_recall_dt)"
   ]
  },
  {
   "cell_type": "code",
   "execution_count": 37,
   "metadata": {},
   "outputs": [
    {
     "name": "stdout",
     "output_type": "stream",
     "text": [
      "Optimal number of features : 13\n"
     ]
    },
    {
     "data": {
      "image/png": "[encoded data removed]",
      "text/plain": [
       "<Figure size 432x288 with 1 Axes>"
      ]
     },
     "metadata": {
      "needs_background": "light"
     },
     "output_type": "display_data"
    }
   ],
   "source": [
    "dt_rfecv = RFECV(estimator=tree.DecisionTreeClassifier(min_samples_split=30, min_samples_leaf=30),\n",
    "                 step=1, cv=StratifiedKFold(5), scoring=make_scorer(fbeta_score, beta=1.5))\n",
    "dt_rfecv.fit(X, Y)\n",
    "\n",
    "print(\"Optimal number of features : %d\" % dt_rfecv.n_features_)\n",
    "\n",
    "# Plot number of features VS. cross-validation scores\n",
    "plt.figure()\n",
    "plt.xlabel(\"Number of features selected\")\n",
    "plt.ylabel(\"Cross validation score (nb of correct classifications)\")\n",
    "plt.plot(range(1, len(dt_rfecv.grid_scores_) + 1), dt_rfecv.grid_scores_)\n",
    "plt.show()"
   ]
  },
  {
   "cell_type": "markdown",
   "metadata": {},
   "source": [
    "# KNN Classifier"
   ]
  },
  {
   "cell_type": "code",
   "execution_count": 49,
   "metadata": {},
   "outputs": [
    {
     "name": "stdout",
     "output_type": "stream",
     "text": [
      "Best Estimator: KNeighborsClassifier(n_neighbors=1)\n",
      "Best score: 0.10262786750303028\n",
      "Test Accuracy: 0.9069121222646752\n",
      "Test Sensitivity: 0.05389221556886228\n",
      "F_beta score: 0.05912076806467913\n"
     ]
    }
   ],
   "source": [
    "x = X.values\n",
    "std_x = normalize_data(x)\n",
    "\n",
    "x_train, x_test, y_train, y_test = train_test_split(std_x, Y, test_size=0.2)\n",
    "\n",
    "krange = list(range(1, 31))\n",
    "param_grid = dict(n_neighbors=krange)\n",
    "\n",
    "knn = KNeighborsClassifier()\n",
    "\n",
    "grid = GridSearchCV(knn, param_grid, cv=10, scoring=make_scorer(fbeta_score, beta=1.5))\n",
    "\n",
    "model = grid.fit(std_x, Y)\n",
    "\n",
    "print('Best Estimator:', model.best_estimator_)\n",
    "print('Best score:', model.best_score_)\n",
    "\n",
    "model = model.best_estimator_.fit(x_train, y_train)\n",
    "\n",
    "# predictions for test set\n",
    "y_preds = model.predict(x_test)\n",
    "\n",
    "# calculate test score\n",
    "test_accuracy_dt = metrics.accuracy_score(y_test, y_preds)\n",
    "test_recall_dt = metrics.recall_score(y_test, y_preds)\n",
    "test_fbeta = fbeta_score(y_test, y_preds, beta=1.5)\n",
    "\n",
    "print('Test Accuracy:', test_accuracy_dt)\n",
    "print('Test Sensitivity:', test_recall_dt)\n",
    "print('Test F_beta score:', test_fbeta)"
   ]
  },
  {
   "cell_type": "markdown",
   "metadata": {},
   "source": [
    "# Extra Trees Classifiers"
   ]
  },
  {
   "cell_type": "code",
   "execution_count": 95,
   "metadata": {},
   "outputs": [
    {
     "name": "stdout",
     "output_type": "stream",
     "text": [
      "Optimal number of features : 1\n"
     ]
    },
    {
     "data": {
      "image/png": "[encoded data removed]",
      "text/plain": [
       "<Figure size 432x288 with 1 Axes>"
      ]
     },
     "metadata": {
      "needs_background": "light"
     },
     "output_type": "display_data"
    }
   ],
   "source": [
    "exclf_rfecv = RFECV(estimator=ExtraTreesClassifier(min_samples_split=10, min_samples_leaf=10), step=1, \n",
    "                  cv=StratifiedKFold(5), scoring=make_scorer(fbeta_score, beta=1.5))\n",
    "exclf_rfecv.fit(X, Y)\n",
    "\n",
    "print(\"Optimal number of features : %d\" % exclf_rfecv.n_features_)\n",
    "\n",
    "# Plot number of features VS. cross-validation scores\n",
    "plt.figure()\n",
    "plt.xlabel(\"Number of features selected\")\n",
    "plt.ylabel(\"Cross validation score (nb of correct classifications)\")\n",
    "plt.plot(range(1, len(exclf_rfecv.grid_scores_) + 1), exclf_rfecv.grid_scores_)\n",
    "plt.show()"
   ]
  },
  {
   "cell_type": "markdown",
   "metadata": {},
   "source": [
    "# SVM"
   ]
  },
  {
   "cell_type": "code",
   "execution_count": 9,
   "metadata": {},
   "outputs": [
    {
     "name": "stdout",
     "output_type": "stream",
     "text": [
      "Test Accuracy: 0.9430357763112192\n",
      "Test Sensitivity: 0.0\n",
      "Test F_beta score: 0.0\n"
     ]
    }
   ],
   "source": [
    "for col in X.columns:\n",
    "    if col != '生產總額' and col != '歸屬部門':\n",
    "        X.drop(col, axis=1, inplace=True)\n",
    "\n",
    "x = X.values\n",
    "std_x = normalize_data(x)\n",
    "\n",
    "x_train, x_test, y_train, y_test = train_test_split(std_x, Y, test_size=0.2)\n",
    "\n",
    "svm_clf = svm.SVC(gamma='auto', C=100)\n",
    "\n",
    "svm_model = svm_clf.fit(std_x, Y)\n",
    "\n",
    "model = svm_model.fit(x_train, y_train)\n",
    "\n",
    "# predictions for test set\n",
    "y_preds = model.predict(x_test)\n",
    "\n",
    "# calculate test score\n",
    "test_accuracy_dt = metrics.accuracy_score(y_test, y_preds)\n",
    "test_recall_dt = metrics.recall_score(y_test, y_preds)\n",
    "test_fbeta = fbeta_score(y_test, y_preds, beta=1.5)\n",
    "\n",
    "print('Test Accuracy:', test_accuracy_dt)\n",
    "print('Test Sensitivity:', test_recall_dt)\n",
    "print('Test F_beta score:', test_fbeta)"
   ]
  },
  {
   "cell_type": "markdown",
   "metadata": {},
   "source": [
    "# Gradient Boosting"
   ]
  },
  {
   "cell_type": "code",
   "execution_count": 37,
   "metadata": {},
   "outputs": [
    {
     "name": "stdout",
     "output_type": "stream",
     "text": [
      "CV Score: 0.9433018203227551\n",
      "Test Accuracy: 0.9472038902396666\n",
      "Test Sensitivity: 0.02027027027027027\n",
      "Test F_beta score: 0.028425655976676387\n"
     ]
    }
   ],
   "source": [
    "X_val = X.values\n",
    "clf = GradientBoostingClassifier(n_estimators=100)\n",
    "\n",
    "scores = cross_val_score(clf, X_val, Y, cv=10)\n",
    "\n",
    "print('CV Score:',scores.mean())\n",
    "model = clf.fit(x_train, y_train)\n",
    "\n",
    "# predictions for test set\n",
    "y_preds = model.predict(x_test)\n",
    "\n",
    "# calculate test score\n",
    "test_accuracy_gb = metrics.accuracy_score(y_test, y_preds)\n",
    "test_recall_gb = metrics.recall_score(y_test, y_preds)\n",
    "test_fbeta = fbeta_score(y_test, y_preds, beta=1.5)\n",
    "\n",
    "print('Test Accuracy:', test_accuracy_gb)\n",
    "print('Test Sensitivity:', test_recall_gb)\n",
    "print('Test F_beta score:', test_fbeta)"
   ]
  },
  {
   "cell_type": "code",
   "execution_count": 48,
   "metadata": {},
   "outputs": [
    {
     "name": "stdout",
     "output_type": "stream",
     "text": [
      "Done estimating!\n",
      "Fitting Finished...!\n",
      "Optimal number of features : 3\n"
     ]
    },
    {
     "data": {
      "image/png": "[encoded data removed]",
      "text/plain": [
       "<Figure size 432x288 with 1 Axes>"
      ]
     },
     "metadata": {
      "needs_background": "light"
     },
     "output_type": "display_data"
    }
   ],
   "source": [
    "exclf_rfecv = RFECV(estimator=GradientBoostingClassifier(learning_rate=0.1),\n",
    "                    step=1, cv=StratifiedKFold(5), scoring=make_scorer(fbeta_score, beta=1.5))\n",
    "print('Done estimating!')\n",
    "exclf_rfecv.fit(X, Y)\n",
    "print('Fitting Finished...!')\n",
    "\n",
    "print(\"Optimal number of features : %d\" % exclf_rfecv.n_features_)\n",
    "\n",
    "# Plot number of features VS. cross-validation scores\n",
    "plt.figure()\n",
    "plt.xlabel(\"Number of features selected\")\n",
    "plt.ylabel(\"Cross validation score (nb of correct classifications)\")\n",
    "plt.plot(range(1, len(exclf_rfecv.grid_scores_) + 1), exclf_rfecv.grid_scores_)\n",
    "plt.show()"
   ]
  },
  {
   "cell_type": "markdown",
   "metadata": {},
   "source": [
    "# MLP Classifier"
   ]
  },
  {
   "cell_type": "code",
   "execution_count": 11,
   "metadata": {},
   "outputs": [
    {
     "name": "stdout",
     "output_type": "stream",
     "text": [
      "Training finished...\n",
      "CV Score: 0.9129383831364375\n",
      "Test Accuracy: 0.9246266064605766\n",
      "Test Sensitivity: 0.13245033112582782\n",
      "Test F_beta score: 0.14582164890633767\n"
     ]
    }
   ],
   "source": [
    "x_train, x_test, y_train, y_test = train_test_split(X, Y, test_size=0.2)\n",
    "\n",
    "clf = MLPClassifier(max_iter = 1000)\n",
    "\n",
    "scores = cross_val_score(clf, X, Y, cv=10)\n",
    "\n",
    "print('Training finished...')\n",
    "print('CV Score:',scores.mean())\n",
    "model = clf.fit(x_train, y_train)\n",
    "\n",
    "# predictions for test set\n",
    "y_preds = model.predict(x_test)\n",
    "\n",
    "# calculate test score\n",
    "test_accuracy_gb = metrics.accuracy_score(y_test, y_preds)\n",
    "test_recall_gb = metrics.recall_score(y_test, y_preds)\n",
    "test_fbeta = fbeta_score(y_test, y_preds, beta=1.5)\n",
    "\n",
    "print('Test Accuracy:', test_accuracy_gb)\n",
    "print('Test Sensitivity:', test_recall_gb)\n",
    "print('Test F_beta score:', test_fbeta)"
   ]
  },
  {
   "cell_type": "code",
   "execution_count": 12,
   "metadata": {},
   "outputs": [
    {
     "data": {
      "text/plain": [
       "array([0, 0, 0, ..., 0, 0, 0])"
      ]
     },
     "execution_count": 12,
     "metadata": {},
     "output_type": "execute_result"
    }
   ],
   "source": [
    "y_train"
   ]
  },
  {
   "cell_type": "code",
   "execution_count": 23,
   "metadata": {},
   "outputs": [],
   "source": [
    "x_train_rfecv = rf_rfecv.transform(x_train)\n",
    "x_test_rfecv = rf_rfecv.transform(x_test)"
   ]
  },
  {
   "cell_type": "code",
   "execution_count": 24,
   "metadata": {},
   "outputs": [],
   "source": [
    "scaler = StandardScaler()\n",
    "scaler.fit(x_train_rfecv)\n",
    "x_train_rfecv = scaler.transform(x_train_rfecv)"
   ]
  },
  {
   "cell_type": "code",
   "execution_count": 26,
   "metadata": {},
   "outputs": [],
   "source": [
    "rfecv_model = RandomForestClassifier(n_estimators=50).fit(x_train_rfecv, y_train)"
   ]
  },
  {
   "cell_type": "code",
   "execution_count": 29,
   "metadata": {},
   "outputs": [
    {
     "name": "stdout",
     "output_type": "stream",
     "text": [
      "0.935046891281695\n"
     ]
    },
    {
     "data": {
      "text/plain": [
       "0.07155963302752294"
      ]
     },
     "execution_count": 29,
     "metadata": {},
     "output_type": "execute_result"
    }
   ],
   "source": [
    "print(rfecv_model.score(x_test_rfecv, y_test))\n",
    "predict = rfecv_model.predict(x_test_rfecv)\n",
    "metrics.fbeta_score(y_test, predict, beta=1.5)"
   ]
  },
  {
   "cell_type": "code",
   "execution_count": 13,
   "metadata": {},
   "outputs": [
    {
     "data": {
      "text/plain": [
       "['MLP.joblib']"
      ]
     },
     "execution_count": 13,
     "metadata": {},
     "output_type": "execute_result"
    }
   ],
   "source": [
    "dump(model, 'MLP.joblib')"
   ]
  },
  {
   "cell_type": "code",
   "execution_count": null,
   "metadata": {},
   "outputs": [],
   "source": []
  },
  {
   "cell_type": "code",
   "execution_count": null,
   "metadata": {},
   "outputs": [],
   "source": []
  },
  {
   "cell_type": "code",
   "execution_count": null,
   "metadata": {},
   "outputs": [],
   "source": []
  },
  {
   "cell_type": "code",
   "execution_count": null,
   "metadata": {},
   "outputs": [],
   "source": []
  }
 ],
 "metadata": {
  "kernelspec": {
   "display_name": "Python 3",
   "language": "python",
   "name": "python3"
  },
  "language_info": {
   "codemirror_mode": {
    "name": "ipython",
    "version": 3
   },
   "file_extension": ".py",
   "mimetype": "text/x-python",
   "name": "python",
   "nbconvert_exporter": "python",
   "pygments_lexer": "ipython3",
   "version": "3.8.5"
  }
 },
 "nbformat": 4,
 "nbformat_minor": 4
}
